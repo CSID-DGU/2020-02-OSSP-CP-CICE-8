{
 "cells": [
  {
   "cell_type": "code",
   "execution_count": 2,
   "metadata": {},
   "outputs": [
    {
     "name": "stdout",
     "output_type": "stream",
     "text": [
      "[{'date': '2020년 12월 16일 00시', 'region': '합계', 'con': 1078}, {'date': '2020년 12월 16일 00시', 'region': '서울', 'con': 378}, {'date': '2020년 12월 16일 00시', 'region': '경기', 'con': 329}, {'date': '2020년 12월 16일 00시', 'region': '전북', 'con': 75}, {'date': '2020년 12월 16일 00시', 'region': '인천', 'con': 67}, {'date': '2020년 12월 16일 00시', 'region': '부산', 'con': 41}, {'date': '2020년 12월 16일 00시', 'region': '충남', 'con': 35}, {'date': '2020년 12월 16일 00시', 'region': '경북', 'con': 28}, {'date': '2020년 12월 16일 00시', 'region': '대구', 'con': 27}, {'date': '2020년 12월 16일 00시', 'region': '충북', 'con': 23}, {'date': '2020년 12월 16일 00시', 'region': '경남', 'con': 19}, {'date': '2020년 12월 16일 00시', 'region': '제주', 'con': 15}, {'date': '2020년 12월 16일 00시', 'region': '대전', 'con': 15}, {'date': '2020년 12월 16일 00시', 'region': '강원', 'con': 8}, {'date': '2020년 12월 16일 00시', 'region': '울산', 'con': 6}, {'date': '2020년 12월 16일 00시', 'region': '검역', 'con': 6}, {'date': '2020년 12월 16일 00시', 'region': '전남', 'con': 4}, {'date': '2020년 12월 16일 00시', 'region': '광주', 'con': 2}, {'date': '2020년 12월 16일 00시', 'region': '세종', 'con': 0}]\n"
     ]
    }
   ],
   "source": [
    "from matplotlib import pyplot as plt\n",
    "import os\n",
    "import sqlite3\n",
    "\n",
    "DB_PATH = 'CoronaBotDB'\n",
    "con = sqlite3.connect(DB_PATH+\"/newkorea.db\", isolation_level=None)\n",
    "con = con.cursor()\n",
    "con.execute(\"SELECT * FROM region\")\n",
    "\n",
    "item_list = []\n",
    "for row in con.execute('SELECT * FROM region'):\n",
    "    item_list.append({'date': row[0], 'region': row[1], 'con':int(row[2])})\n",
    "    \n",
    "print(item_list)"
   ]
  },
  {
   "cell_type": "code",
   "execution_count": 3,
   "metadata": {},
   "outputs": [
    {
     "ename": "ModuleNotFoundError",
     "evalue": "No module named 'geopandas'",
     "output_type": "error",
     "traceback": [
      "\u001b[1;31m---------------------------------------------------------------------------\u001b[0m",
      "\u001b[1;31mModuleNotFoundError\u001b[0m                       Traceback (most recent call last)",
      "\u001b[1;32m<ipython-input-3-87752c6a4f69>\u001b[0m in \u001b[0;36m<module>\u001b[1;34m\u001b[0m\n\u001b[0;32m      1\u001b[0m \u001b[1;32mimport\u001b[0m \u001b[0mnumpy\u001b[0m \u001b[1;32mas\u001b[0m \u001b[0mnp\u001b[0m\u001b[1;33m\u001b[0m\u001b[1;33m\u001b[0m\u001b[0m\n\u001b[0;32m      2\u001b[0m \u001b[1;32mimport\u001b[0m \u001b[0mpandas\u001b[0m \u001b[1;32mas\u001b[0m \u001b[0mpd\u001b[0m\u001b[1;33m\u001b[0m\u001b[1;33m\u001b[0m\u001b[0m\n\u001b[1;32m----> 3\u001b[1;33m \u001b[1;32mimport\u001b[0m \u001b[0mgeopandas\u001b[0m \u001b[1;32mas\u001b[0m \u001b[0mgpd\u001b[0m\u001b[1;33m\u001b[0m\u001b[1;33m\u001b[0m\u001b[0m\n\u001b[0m\u001b[0;32m      4\u001b[0m \u001b[1;32mfrom\u001b[0m \u001b[0mgeopandas\u001b[0m\u001b[1;33m.\u001b[0m\u001b[0mtools\u001b[0m \u001b[1;32mimport\u001b[0m \u001b[0mgeocode\u001b[0m\u001b[1;33m\u001b[0m\u001b[1;33m\u001b[0m\u001b[0m\n\u001b[0;32m      5\u001b[0m \u001b[1;32mimport\u001b[0m \u001b[0mmath\u001b[0m\u001b[1;33m\u001b[0m\u001b[1;33m\u001b[0m\u001b[0m\n",
      "\u001b[1;31mModuleNotFoundError\u001b[0m: No module named 'geopandas'"
     ]
    }
   ],
   "source": [
    "import numpy as np\n",
    "import pandas as pd\n",
    "import geopandas as gpd\n",
    "from geopandas.tools import geocode\n",
    "import math\n",
    "from collections import namedtuple\n",
    "\n",
    "import folium\n",
    "from folium import Choropleth, Circle, Marker\n",
    "from folium.plugins import HeatMap, MarkerCluster, TimestampedGeoJson\n",
    "\n",
    "import datetime\n",
    "import json\n",
    "from folium.features import DivIcon"
   ]
  },
  {
   "cell_type": "code",
   "execution_count": 4,
   "metadata": {},
   "outputs": [
    {
     "name": "stdout",
     "output_type": "stream",
     "text": [
      "Collecting geopandas\n",
      "  Downloading geopandas-0.8.1-py2.py3-none-any.whl (962 kB)\n",
      "Collecting fiona\n",
      "  Downloading Fiona-1.8.18.tar.gz (1.3 MB)\n"
     ]
    },
    {
     "name": "stderr",
     "output_type": "stream",
     "text": [
      "    ERROR: Command errored out with exit status 1:\n",
      "     command: 'c:\\users\\82108\\anaconda3\\python.exe' -c 'import sys, setuptools, tokenize; sys.argv[0] = '\"'\"'C:\\\\Users\\\\82108\\\\AppData\\\\Local\\\\Temp\\\\pip-install-b325gpwc\\\\fiona\\\\setup.py'\"'\"'; __file__='\"'\"'C:\\\\Users\\\\82108\\\\AppData\\\\Local\\\\Temp\\\\pip-install-b325gpwc\\\\fiona\\\\setup.py'\"'\"';f=getattr(tokenize, '\"'\"'open'\"'\"', open)(__file__);code=f.read().replace('\"'\"'\\r\\n'\"'\"', '\"'\"'\\n'\"'\"');f.close();exec(compile(code, __file__, '\"'\"'exec'\"'\"'))' egg_info --egg-base 'C:\\Users\\82108\\AppData\\Local\\Temp\\pip-pip-egg-info-qo92urs0'\n",
      "         cwd: C:\\Users\\82108\\AppData\\Local\\Temp\\pip-install-b325gpwc\\fiona\\\n",
      "    Complete output (1 lines):\n",
      "    A GDAL API version must be specified. Provide a path to gdal-config using a GDAL_CONFIG environment variable or use a GDAL_VERSION environment variable.\n",
      "    ----------------------------------------\n",
      "ERROR: Command errored out with exit status 1: python setup.py egg_info Check the logs for full command output.\n",
      "WARNING: You are using pip version 20.2.3; however, version 20.3.3 is available.\n",
      "You should consider upgrading via the 'c:\\users\\82108\\anaconda3\\python.exe -m pip install --upgrade pip' command.\n"
     ]
    }
   ],
   "source": [
    "#!pip install geopandas"
   ]
  },
  {
   "cell_type": "code",
   "execution_count": 5,
   "metadata": {},
   "outputs": [],
   "source": [
    "def create_geojson_features(df_con,df_on,\n",
    "                        radius_max=1000,\n",
    "                        radius_min = 2, \n",
    "                        fill_color_confirmed = '#FC766AFF',\n",
    "                        fill_color_recovered = '#0A5E2AFF',\n",
    "                        fill_color_death = '#E80018',\n",
    "                        weight = 1,\n",
    "                        fill_opacity = 0.5\n",
    "                        ):\n",
    "\n",
    "print('> Creating GeoJSON features...')\n",
    "\n",
    "features = []\n",
    "feature = []\n",
    "# df_con\n",
    "for _, row in df_con.iterrows():\n",
    "    radius = np.sqrt(row['Confirmed'])\n",
    "    if radius != 0:\n",
    "      if radius < radius_min:\n",
    "        radius = radius_min\n",
    "\n",
    "      if radius > radius_max:\n",
    "        radius = radius_max\n",
    "\n",
    "      popup = str(row['city']) + str(row['Confirmed'])\n",
    "\n",
    "      feature = {\n",
    "          'type': 'Feature',\n",
    "          'geometry': {\n",
    "              'type':'Point', \n",
    "              'coordinates':[row['longitude'],row['latitude']]\n",
    "          },\n",
    "          'properties': {\n",
    "              'time': row['date'].__str__(),\n",
    "              'style': {'color' : fill_color_confirmed},\n",
    "              'icon': 'circle',\n",
    "              'iconstyle':{\n",
    "                  'fillColor': fill_color_confirmed,\n",
    "                  'fillOpacity': fill_opacity,\n",
    "                  'stroke': 'true',\n",
    "                  'radius': radius,\n",
    "                  'weight': weight,\n",
    "                  'popup': popup\n",
    "              }\n",
    "          }\n",
    "    }\n",
    "    features.append(feature)\n",
    "\n",
    "for _, row in df_on.iterrows():\n",
    "    radius = np.sqrt(row['Confirmed'])\n",
    "    if radius != 0:\n",
    "      if radius < radius_min:\n",
    "        radius = radius_min\n",
    "\n",
    "      if radius > radius_max:\n",
    "        radius = radius_max\n",
    "    popups = str(row['city']) + str(row['Confirmed'])\n",
    "    size=radius,radius\n",
    "    feature = {\n",
    "        'type': 'Feature',\n",
    "        'geometry': {\n",
    "            'type':'Point',\n",
    "            'coordinates':[row['longitude'],row['latitude']]\n",
    "        },\n",
    "        'properties': {\n",
    "            'time': row['date'].__str__(),\n",
    "            'style': {'color' : fill_color_confirmed},\n",
    "            'icon': 'marker',\n",
    "            'iconstyle': { 'iconUrl': 'https://cdn.iconscout.com/icon/premium/png-512-thumb/coronavirus-4-613136.png', \n",
    "                          'iconSize': [radius, radius],\n",
    "                          'fillOpacity': 0.1,\n",
    "                          'Popup': popups\n",
    "                         }\n",
    "        }\n",
    "    }\n",
    "    features.append(feature)\n",
    "\n",
    "\n",
    "\n",
    "print('> finishing GeoJSON features...')\n",
    "return features"
   ]
  },
  {
   "cell_type": "code",
   "execution_count": 6,
   "metadata": {},
   "outputs": [],
   "source": [
    "def make_map(features, caption):\n",
    "    print('> Making map...')\n",
    "    coords=[36, 127]\n",
    "    map = folium.Map(location=coords, \n",
    "                               control_scale=True, \n",
    "                               zoom_start=6.5,\n",
    "                               tiles='cartodbpositron',  \n",
    "                               detect_retina = True\n",
    "                              )\n",
    "    \n",
    "    folium.Choropleth(\n",
    "        geo_data=kr_geo_data,\n",
    "        name='choropleth',\n",
    "        key_on='feature.properties.name',\n",
    "        fill_color='yellow',\n",
    "        fill_opacity=0.15,\n",
    "        line_opacity=0.7\n",
    "        ).add_to(map)\n",
    "\n",
    "\n",
    "    TimestampedGeoJson(\n",
    "        {'type': 'FeatureCollection',\n",
    "        'features': features}\n",
    "        , period='P1D'\n",
    "        , duration='P1D'\n",
    "        , add_last_point=True\n",
    "        , auto_play=False\n",
    "        , loop=False\n",
    "        , max_speed=1\n",
    "        , loop_button=True\n",
    "        , date_options='MM/DD/YYYY'\n",
    "        , time_slider_drag_update=True\n",
    "        , transition_time = 500\n",
    "    ).add_to(map)\n",
    "  \n",
    "    \n",
    "    map.caption = caption\n",
    "    print('> Done.')\n",
    "    map.save(os.path.join('Corona_kr.html'))\n",
    "    \n",
    "    return map"
   ]
  },
  {
   "cell_type": "code",
   "execution_count": null,
   "metadata": {},
   "outputs": [],
   "source": []
  }
 ],
 "metadata": {
  "kernelspec": {
   "display_name": "Python 3",
   "language": "python",
   "name": "python3"
  },
  "language_info": {
   "codemirror_mode": {
    "name": "ipython",
    "version": 3
   },
   "file_extension": ".py",
   "mimetype": "text/x-python",
   "name": "python",
   "nbconvert_exporter": "python",
   "pygments_lexer": "ipython3",
   "version": "3.7.1"
  }
 },
 "nbformat": 4,
 "nbformat_minor": 2
}
